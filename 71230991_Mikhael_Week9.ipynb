{
 "cells": [
  {
   "cell_type": "code",
   "execution_count": 1,
   "metadata": {},
   "outputs": [
    {
     "name": "stdout",
     "output_type": "stream",
     "text": [
      "Kedua file yang dimasukkan sama!\n",
      "\n"
     ]
    }
   ],
   "source": [
    "input1 = input(\"Masukkan nama file pertama beserta formatnya : \")\n",
    "input2 = input(\"Masukkan nama file kedua beserta formatnya : \")\n",
    "file1 = open(input1, 'r').readlines()\n",
    "file2 = open(input2, 'r').readlines()\n",
    "\n",
    "if file1 == file2:\n",
    "    print(\"Kedua file yang dimasukkan sama!\\n\") \n",
    "else:\n",
    "    max_lines = max(len(file1), len(file2))\n",
    "\n",
    "    for i in range(max_lines):\n",
    "        if i < len(file1) and i < len(file2):\n",
    "            if file1[i] == file2[i]:\n",
    "                print(f\"\\nbaris ke-{i+1} sama ({file1[i]})\")\n",
    "            else:\n",
    "                print(f\"Baris ke-{i+1} berbeda! Pada file pertama : {file1[i].strip()}, dan file kedua : {file2[i].strip()}\\n\")"
   ]
  },
  {
   "cell_type": "code",
   "execution_count": 4,
   "metadata": {},
   "outputs": [
    {
     "name": "stdout",
     "output_type": "stream",
     "text": [
      "nama file :  soal.txt\n",
      "1+1 =\n",
      "Jawaban benar!\n",
      "\n",
      "Bendera Indonesia?\n",
      "Jawaban benar!\n",
      "\n",
      "Kota gudeg adalah:\n",
      "Jawaban salah!\n",
      "\n",
      "Komponen PC untuk penyimpanan file adalah...\n",
      "Jawaban benar!\n",
      "\n",
      "50 * 20 =\n",
      "Jawaban benar!\n",
      "\n"
     ]
    }
   ],
   "source": [
    "namaFile = \"soal.txt\"\n",
    "\n",
    "bukafile = open(namaFile, 'r')\n",
    "print ('nama file : ', namaFile)\n",
    "\n",
    "for line in bukafile:\n",
    "    pertanyaan, jawaban = line.strip().split('||')\n",
    "    pertanyaan = pertanyaan.strip()\n",
    "    jawaban = jawaban.strip()\n",
    "    print(pertanyaan)\n",
    "    jawaban2 = input(\"Jawab : \").strip()\n",
    "    if jawaban2.lower() == jawaban.lower():\n",
    "        print(\"Jawaban benar!\")\n",
    "    else:\n",
    "        print(\"Jawaban salah!\")\n",
    "    print()"
   ]
  }
 ],
 "metadata": {
  "kernelspec": {
   "display_name": "Python 3",
   "language": "python",
   "name": "python3"
  },
  "language_info": {
   "codemirror_mode": {
    "name": "ipython",
    "version": 3
   },
   "file_extension": ".py",
   "mimetype": "text/x-python",
   "name": "python",
   "nbconvert_exporter": "python",
   "pygments_lexer": "ipython3",
   "version": "3.12.1"
  }
 },
 "nbformat": 4,
 "nbformat_minor": 2
}
